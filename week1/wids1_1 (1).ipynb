{
  "nbformat": 4,
  "nbformat_minor": 0,
  "metadata": {
    "colab": {
      "provenance": []
    },
    "kernelspec": {
      "name": "python3",
      "display_name": "Python 3"
    },
    "language_info": {
      "name": "python"
    }
  },
  "cells": [
    {
      "cell_type": "markdown",
      "source": [
        "# ***NUMPY***"
      ],
      "metadata": {
        "id": "tdUo08Uw-6h9"
      }
    },
    {
      "cell_type": "code",
      "execution_count": 1,
      "metadata": {
        "id": "h3oA7HVD82wt"
      },
      "outputs": [],
      "source": [
        "\n",
        "#importing the required libraries\n",
        "import numpy as np"
      ]
    },
    {
      "cell_type": "code",
      "source": [
        "#Creating a numpy array\n",
        "array_a = np.array([1,3,4,5,6,7,8,9,10,12,1,4,1,51,7,28,10,30,29,54])\n",
        "print(\"array_a = \")\n",
        "print(np.size(array_a))\n",
        "array_a"
      ],
      "metadata": {
        "colab": {
          "base_uri": "https://localhost:8080/"
        },
        "id": "tUkvk74L--Sx",
        "outputId": "c4f99eed-b852-4c7c-d446-9bac582bc618"
      },
      "execution_count": 2,
      "outputs": [
        {
          "output_type": "stream",
          "name": "stdout",
          "text": [
            "array_a = \n",
            "20\n"
          ]
        },
        {
          "output_type": "execute_result",
          "data": {
            "text/plain": [
              "array([ 1,  3,  4,  5,  6,  7,  8,  9, 10, 12,  1,  4,  1, 51,  7, 28, 10,\n",
              "       30, 29, 54])"
            ]
          },
          "metadata": {},
          "execution_count": 2
        }
      ]
    },
    {
      "cell_type": "code",
      "source": [
        "#Array reshaping\n",
        "reshaped_array = np.reshape(array_a, (5, 4))\n",
        "print(\"reshaped_array = \")\n",
        "reshaped_array"
      ],
      "metadata": {
        "colab": {
          "base_uri": "https://localhost:8080/"
        },
        "id": "iAwkKGTE_C4S",
        "outputId": "3f720b65-648d-42ab-8408-b87c55d92c12"
      },
      "execution_count": 3,
      "outputs": [
        {
          "output_type": "stream",
          "name": "stdout",
          "text": [
            "reshaped_array = \n"
          ]
        },
        {
          "output_type": "execute_result",
          "data": {
            "text/plain": [
              "array([[ 1,  3,  4,  5],\n",
              "       [ 6,  7,  8,  9],\n",
              "       [10, 12,  1,  4],\n",
              "       [ 1, 51,  7, 28],\n",
              "       [10, 30, 29, 54]])"
            ]
          },
          "metadata": {},
          "execution_count": 3
        }
      ]
    },
    {
      "cell_type": "code",
      "source": [
        "#Array Indexing\n",
        "print(\"first_five_elements =\")\n",
        "print(reshaped_array[0,:4])  #thus the column limitation isupto 4 only so no 5th element is there\n"
      ],
      "metadata": {
        "colab": {
          "base_uri": "https://localhost:8080/"
        },
        "id": "fF0ok3-B_GS8",
        "outputId": "da5e9844-5dc6-4864-b17f-776a98394b73"
      },
      "execution_count": 4,
      "outputs": [
        {
          "output_type": "stream",
          "name": "stdout",
          "text": [
            "first_five_elements =\n",
            "[1 3 4 5]\n"
          ]
        }
      ]
    },
    {
      "cell_type": "code",
      "source": [
        "#Element wise operations\n",
        "arr1 = np.array([3,4,5,6,7,7,8,10,9,9,23,5,5,4,3,12,17,40,8,12])\n",
        "print(np.size(arr1))\n",
        "\n",
        "array_b = np.reshape(arr1,(5,4))\n",
        "added_arrays = reshaped_array + array_b\n",
        "print(\"array_b = \")\n",
        "print(array_b)\n",
        "print(\"added_arrays= \")\n",
        "print(added_arrays)"
      ],
      "metadata": {
        "colab": {
          "base_uri": "https://localhost:8080/"
        },
        "id": "LVo2Ye4W_KNp",
        "outputId": "8b9dd9d4-ff8d-474a-adc4-e855b8a71a3f"
      },
      "execution_count": 5,
      "outputs": [
        {
          "output_type": "stream",
          "name": "stdout",
          "text": [
            "20\n",
            "array_b = \n",
            "[[ 3  4  5  6]\n",
            " [ 7  7  8 10]\n",
            " [ 9  9 23  5]\n",
            " [ 5  4  3 12]\n",
            " [17 40  8 12]]\n",
            "added_arrays= \n",
            "[[ 4  7  9 11]\n",
            " [13 14 16 19]\n",
            " [19 21 24  9]\n",
            " [ 6 55 10 40]\n",
            " [27 70 37 66]]\n"
          ]
        }
      ]
    },
    {
      "cell_type": "code",
      "source": [
        "#Matrix multiplication\n",
        "matrix_a = np.matrix([[5 , 6],[3 , 6]])\n",
        "matrix_b = np.matrix([[7 , 9], [4 , 1]])\n",
        "print(\"matrix_a = \", matrix_a)\n",
        "print(\"matrix_b = \",matrix_b)\n",
        "\n",
        "matrix_product = matrix_a * matrix_b\n",
        "print(\"matrix_product = \",matrix_product)"
      ],
      "metadata": {
        "colab": {
          "base_uri": "https://localhost:8080/"
        },
        "id": "cXtQAI5w_N5T",
        "outputId": "0d8f52be-070d-4af7-c5a6-cc842c20bd1d"
      },
      "execution_count": 6,
      "outputs": [
        {
          "output_type": "stream",
          "name": "stdout",
          "text": [
            "matrix_a =  [[5 6]\n",
            " [3 6]]\n",
            "matrix_b =  [[7 9]\n",
            " [4 1]]\n",
            "matrix_product =  [[59 51]\n",
            " [45 33]]\n"
          ]
        }
      ]
    },
    {
      "cell_type": "code",
      "source": [
        "# Broascasting\n",
        "import random\n",
        "\n",
        "array_c = np.random.randint(1,20 , 4)\n",
        "print(\"array_c = \",array_c)\n",
        "\n",
        "broadcasted_array = reshaped_array + array_c\n",
        "broadcasted_array"
      ],
      "metadata": {
        "colab": {
          "base_uri": "https://localhost:8080/"
        },
        "id": "hITJPbxT_Qil",
        "outputId": "78cad655-43f4-41e1-93b6-4ed4a4786464"
      },
      "execution_count": 7,
      "outputs": [
        {
          "output_type": "stream",
          "name": "stdout",
          "text": [
            "array_c =  [19 18 19 18]\n"
          ]
        },
        {
          "output_type": "execute_result",
          "data": {
            "text/plain": [
              "array([[20, 21, 23, 23],\n",
              "       [25, 25, 27, 27],\n",
              "       [29, 30, 20, 22],\n",
              "       [20, 69, 26, 46],\n",
              "       [29, 48, 48, 72]])"
            ]
          },
          "metadata": {},
          "execution_count": 7
        }
      ]
    },
    {
      "cell_type": "code",
      "source": [
        "#Array slicing and stride\n",
        "sliced_array = reshaped_array[::3, ::2]\n",
        "print(\"sliced_array =\")\n",
        "print(sliced_array)\n",
        "print(\"Shape of sliced array:\", sliced_array.shape)"
      ],
      "metadata": {
        "colab": {
          "base_uri": "https://localhost:8080/"
        },
        "id": "FI7M_nC3_UVw",
        "outputId": "3aee73a8-66b5-49a2-9857-e355f7bcf5ca"
      },
      "execution_count": 8,
      "outputs": [
        {
          "output_type": "stream",
          "name": "stdout",
          "text": [
            "sliced_array =\n",
            "[[1 4]\n",
            " [1 7]]\n",
            "Shape of sliced array: (2, 2)\n"
          ]
        }
      ]
    },
    {
      "cell_type": "code",
      "source": [
        "#Statistics\n",
        "print(\"reshaped_array: \" , reshaped_array)\n",
        "sum_val = np.sum(reshaped_array)\n",
        "mean_val = np.mean(reshaped_array)\n",
        "std_dev = np.std(reshaped_array)\n",
        "\n",
        "stats = {\n",
        "    \"sum\" : sum_val,\n",
        "    \"mean\" : mean_val,\n",
        "    \"std\" : std_dev\n",
        "}\n",
        "print(\"statistics:\",stats)"
      ],
      "metadata": {
        "colab": {
          "base_uri": "https://localhost:8080/"
        },
        "id": "Vh8cBzVL_Wuu",
        "outputId": "377250a8-8913-40dc-c17e-c51424adcde1"
      },
      "execution_count": 9,
      "outputs": [
        {
          "output_type": "stream",
          "name": "stdout",
          "text": [
            "reshaped_array:  [[ 1  3  4  5]\n",
            " [ 6  7  8  9]\n",
            " [10 12  1  4]\n",
            " [ 1 51  7 28]\n",
            " [10 30 29 54]]\n",
            "statistics: {'sum': 280, 'mean': 14.0, 'std': 15.514509338035799}\n"
          ]
        }
      ]
    },
    {
      "cell_type": "code",
      "source": [
        "#Finding Maximum and minimum\n",
        "max_index_1 = np.argmax(reshaped_array)\n",
        "max_index = np.unravel_index(max_index_1, reshaped_array.shape)\n",
        "print(\"max_index:\",max_index)\n",
        "\n",
        "min_index_1 = np.argmin(reshaped_array)\n",
        "min_index = np.unravel_index(min_index_1, reshaped_array.shape)\n",
        "\n",
        "print(\"min_index:\", min_index)\n"
      ],
      "metadata": {
        "colab": {
          "base_uri": "https://localhost:8080/"
        },
        "id": "CpsLklfr_ZpV",
        "outputId": "27c51ffa-138b-41ab-e29b-36c7c5b677ef"
      },
      "execution_count": 10,
      "outputs": [
        {
          "output_type": "stream",
          "name": "stdout",
          "text": [
            "max_index: (4, 3)\n",
            "min_index: (0, 0)\n"
          ]
        }
      ]
    },
    {
      "cell_type": "code",
      "source": [
        "#Advanced Array Manupulation\n",
        "array_d = np.random.rand(10)\n",
        "print(\"array_d:\", array_d)\n",
        "\n",
        "modified_array_d = (array_d>0.5).astype(int)\n",
        "print(\"modified_array_d:\", modified_array_d)"
      ],
      "metadata": {
        "colab": {
          "base_uri": "https://localhost:8080/"
        },
        "id": "Zq44SIGl_jmd",
        "outputId": "38ddefb2-6777-46d8-8d5a-3fed89baedbd"
      },
      "execution_count": 11,
      "outputs": [
        {
          "output_type": "stream",
          "name": "stdout",
          "text": [
            "array_d: [0.02253158 0.10720251 0.29648983 0.50754642 0.98679841 0.21056083\n",
            " 0.13888828 0.41479961 0.89048834 0.36933223]\n",
            "modified_array_d: [0 0 0 1 1 0 0 0 1 0]\n"
          ]
        }
      ]
    },
    {
      "cell_type": "markdown",
      "source": [
        "# ***PANDAS***"
      ],
      "metadata": {
        "id": "xRlXQ6ni_qXf"
      }
    },
    {
      "cell_type": "code",
      "source": [
        "\n",
        "import pandas as pd\n",
        "\n",
        "column_names = ['A', 'B', 'C', 'D']\n",
        "df_a = pd.DataFrame(reshaped_array, columns = column_names)\n",
        "print(\"df_a:\")\n",
        "print(df_a)"
      ],
      "metadata": {
        "colab": {
          "base_uri": "https://localhost:8080/"
        },
        "id": "jSyg7x0y_n2X",
        "outputId": "5872016a-c4c8-45f6-9a88-c8fde3706bb3"
      },
      "execution_count": 12,
      "outputs": [
        {
          "output_type": "stream",
          "name": "stdout",
          "text": [
            "df_a:\n",
            "    A   B   C   D\n",
            "0   1   3   4   5\n",
            "1   6   7   8   9\n",
            "2  10  12   1   4\n",
            "3   1  51   7  28\n",
            "4  10  30  29  54\n"
          ]
        }
      ]
    },
    {
      "cell_type": "code",
      "source": [
        "#Row Operations\n",
        "new_row = np.random.randint(1,51, size=4)\n",
        "print(\"new_row:\", new_row)\n",
        "\n",
        "df_a.loc[len(df_a)] = new_row\n",
        "\n",
        "print(\"df_a:\")\n",
        "print(df_a)"
      ],
      "metadata": {
        "colab": {
          "base_uri": "https://localhost:8080/"
        },
        "id": "rSjDjKbx_xCw",
        "outputId": "366b9839-4961-40f1-fc08-2ba973731a47"
      },
      "execution_count": 13,
      "outputs": [
        {
          "output_type": "stream",
          "name": "stdout",
          "text": [
            "new_row: [39 13 34 25]\n",
            "df_a:\n",
            "    A   B   C   D\n",
            "0   1   3   4   5\n",
            "1   6   7   8   9\n",
            "2  10  12   1   4\n",
            "3   1  51   7  28\n",
            "4  10  30  29  54\n",
            "5  39  13  34  25\n"
          ]
        }
      ]
    },
    {
      "cell_type": "code",
      "source": [
        "#Column Manipulation\n",
        "df_a = pd.DataFrame(np.random.randint(1,51,size = (5,4)),columns= ['A', 'B', 'C', 'D'])\n",
        "df_a['Sum'] = df_a.sum(axis = 1)\n",
        "print(\"df_a:\")\n",
        "print(df_a)"
      ],
      "metadata": {
        "colab": {
          "base_uri": "https://localhost:8080/"
        },
        "id": "_OtuZJYG_17v",
        "outputId": "685c22b0-7351-4aab-b18a-472e5b6da2f6"
      },
      "execution_count": 14,
      "outputs": [
        {
          "output_type": "stream",
          "name": "stdout",
          "text": [
            "df_a:\n",
            "    A   B   C   D  Sum\n",
            "0  17  49  37  49  152\n",
            "1  42  10  42  47  141\n",
            "2   1  16   4  42   63\n",
            "3  28   2  38  43  111\n",
            "4  50  50  15  18  133\n"
          ]
        }
      ]
    },
    {
      "cell_type": "code",
      "source": [
        "#Accesing Data\n",
        "col_c = df_a['C']\n",
        "col_c = pd.Series(np.array(col_c))\n",
        "print(\"col_c:\", col_c)"
      ],
      "metadata": {
        "colab": {
          "base_uri": "https://localhost:8080/"
        },
        "id": "jgGVdXte_9RF",
        "outputId": "e7ec1d2b-6068-4469-a749-1f7e92059406"
      },
      "execution_count": 15,
      "outputs": [
        {
          "output_type": "stream",
          "name": "stdout",
          "text": [
            "col_c: 0    37\n",
            "1    42\n",
            "2     4\n",
            "3    38\n",
            "4    15\n",
            "dtype: int64\n"
          ]
        }
      ]
    },
    {
      "cell_type": "code",
      "source": [
        "#Filtering Data\n",
        "filtered_df = df_a[df_a['A']>30]\n",
        "print(\"filtered_df:\")\n",
        "print(filtered_df)"
      ],
      "metadata": {
        "colab": {
          "base_uri": "https://localhost:8080/"
        },
        "id": "i5z2eUs-_-Pg",
        "outputId": "ea0a6c04-e2a3-42e3-81a6-af252027c6c2"
      },
      "execution_count": null,
      "outputs": [
        {
          "output_type": "stream",
          "name": "stdout",
          "text": [
            "filtered_df:\n",
            "    A   B   C   D  Sum\n",
            "1  33  48  30  20  131\n"
          ]
        }
      ]
    },
    {
      "cell_type": "code",
      "source": [
        "#Statistical Operations\n",
        "mean_values = df_a.mean()\n",
        "std_values = df_a.std()\n",
        "\n",
        "print(\"'mean_values:\")\n",
        "print( mean_values)\n",
        "print(\"std_values:\")\n",
        "print(std_values)"
      ],
      "metadata": {
        "colab": {
          "base_uri": "https://localhost:8080/"
        },
        "id": "Ij6mG8peABu2",
        "outputId": "574fba4c-3e99-4098-fdfd-49d25677742e"
      },
      "execution_count": 16,
      "outputs": [
        {
          "output_type": "stream",
          "name": "stdout",
          "text": [
            "'mean_values:\n",
            "A       27.6\n",
            "B       25.4\n",
            "C       27.2\n",
            "D       39.8\n",
            "Sum    120.0\n",
            "dtype: float64\n",
            "std_values:\n",
            "A      19.552493\n",
            "B      22.556595\n",
            "C      16.724234\n",
            "D      12.517987\n",
            "Sum    35.227830\n",
            "dtype: float64\n"
          ]
        }
      ]
    },
    {
      "cell_type": "code",
      "source": [
        "#Handling Missing Data\n",
        "df_a.iloc[2, 1] = np.nan\n",
        "df_a.iloc[4, 3] = np.nan\n",
        "print(\"df_a:\")\n",
        "print(df_a)\n",
        "df_a.fillna(df_a.mean(), inplace=True)\n",
        "print(\"df_a:\")\n",
        "print(df_a)"
      ],
      "metadata": {
        "colab": {
          "base_uri": "https://localhost:8080/"
        },
        "id": "ufysZWhiAF89",
        "outputId": "c1fb2694-59d3-43e5-8cb2-4977db3dc7d7"
      },
      "execution_count": 17,
      "outputs": [
        {
          "output_type": "stream",
          "name": "stdout",
          "text": [
            "df_a:\n",
            "    A     B   C     D  Sum\n",
            "0  17  49.0  37  49.0  152\n",
            "1  42  10.0  42  47.0  141\n",
            "2   1   NaN   4  42.0   63\n",
            "3  28   2.0  38  43.0  111\n",
            "4  50  50.0  15   NaN  133\n",
            "df_a:\n",
            "    A      B   C      D  Sum\n",
            "0  17  49.00  37  49.00  152\n",
            "1  42  10.00  42  47.00  141\n",
            "2   1  27.75   4  42.00   63\n",
            "3  28   2.00  38  43.00  111\n",
            "4  50  50.00  15  45.25  133\n"
          ]
        }
      ]
    },
    {
      "cell_type": "code",
      "source": [
        "#Sorting Data\n",
        "df_a_sorted =df_a.sort_values(by='A', ascending=False)\n",
        "print(\"df_a_sorted:\")\n",
        "print(df_a_sorted)"
      ],
      "metadata": {
        "colab": {
          "base_uri": "https://localhost:8080/"
        },
        "id": "xDp6NzuDAHTC",
        "outputId": "aa27b943-062b-4340-ae3f-350e78354c96"
      },
      "execution_count": 18,
      "outputs": [
        {
          "output_type": "stream",
          "name": "stdout",
          "text": [
            "df_a_sorted:\n",
            "    A      B   C      D  Sum\n",
            "4  50  50.00  15  45.25  133\n",
            "1  42  10.00  42  47.00  141\n",
            "3  28   2.00  38  43.00  111\n",
            "0  17  49.00  37  49.00  152\n",
            "2   1  27.75   4  42.00   63\n"
          ]
        }
      ]
    },
    {
      "cell_type": "code",
      "source": [
        "#Grouping Data\n",
        "grouped_df = df_a.groupby('A').sum()\n",
        "grouped_df"
      ],
      "metadata": {
        "colab": {
          "base_uri": "https://localhost:8080/",
          "height": 237
        },
        "id": "BwUDwukOAV7I",
        "outputId": "46a4bf5d-eae2-44b4-b3ef-c034622580fc"
      },
      "execution_count": 19,
      "outputs": [
        {
          "output_type": "execute_result",
          "data": {
            "text/plain": [
              "        B   C      D  Sum\n",
              "A                        \n",
              "1   27.75   4  42.00   63\n",
              "17  49.00  37  49.00  152\n",
              "28   2.00  38  43.00  111\n",
              "42  10.00  42  47.00  141\n",
              "50  50.00  15  45.25  133"
            ],
            "text/html": [
              "\n",
              "  <div id=\"df-4957b25e-ac52-484e-a329-1cacdbf4dcb3\" class=\"colab-df-container\">\n",
              "    <div>\n",
              "<style scoped>\n",
              "    .dataframe tbody tr th:only-of-type {\n",
              "        vertical-align: middle;\n",
              "    }\n",
              "\n",
              "    .dataframe tbody tr th {\n",
              "        vertical-align: top;\n",
              "    }\n",
              "\n",
              "    .dataframe thead th {\n",
              "        text-align: right;\n",
              "    }\n",
              "</style>\n",
              "<table border=\"1\" class=\"dataframe\">\n",
              "  <thead>\n",
              "    <tr style=\"text-align: right;\">\n",
              "      <th></th>\n",
              "      <th>B</th>\n",
              "      <th>C</th>\n",
              "      <th>D</th>\n",
              "      <th>Sum</th>\n",
              "    </tr>\n",
              "    <tr>\n",
              "      <th>A</th>\n",
              "      <th></th>\n",
              "      <th></th>\n",
              "      <th></th>\n",
              "      <th></th>\n",
              "    </tr>\n",
              "  </thead>\n",
              "  <tbody>\n",
              "    <tr>\n",
              "      <th>1</th>\n",
              "      <td>27.75</td>\n",
              "      <td>4</td>\n",
              "      <td>42.00</td>\n",
              "      <td>63</td>\n",
              "    </tr>\n",
              "    <tr>\n",
              "      <th>17</th>\n",
              "      <td>49.00</td>\n",
              "      <td>37</td>\n",
              "      <td>49.00</td>\n",
              "      <td>152</td>\n",
              "    </tr>\n",
              "    <tr>\n",
              "      <th>28</th>\n",
              "      <td>2.00</td>\n",
              "      <td>38</td>\n",
              "      <td>43.00</td>\n",
              "      <td>111</td>\n",
              "    </tr>\n",
              "    <tr>\n",
              "      <th>42</th>\n",
              "      <td>10.00</td>\n",
              "      <td>42</td>\n",
              "      <td>47.00</td>\n",
              "      <td>141</td>\n",
              "    </tr>\n",
              "    <tr>\n",
              "      <th>50</th>\n",
              "      <td>50.00</td>\n",
              "      <td>15</td>\n",
              "      <td>45.25</td>\n",
              "      <td>133</td>\n",
              "    </tr>\n",
              "  </tbody>\n",
              "</table>\n",
              "</div>\n",
              "    <div class=\"colab-df-buttons\">\n",
              "\n",
              "  <div class=\"colab-df-container\">\n",
              "    <button class=\"colab-df-convert\" onclick=\"convertToInteractive('df-4957b25e-ac52-484e-a329-1cacdbf4dcb3')\"\n",
              "            title=\"Convert this dataframe to an interactive table.\"\n",
              "            style=\"display:none;\">\n",
              "\n",
              "  <svg xmlns=\"http://www.w3.org/2000/svg\" height=\"24px\" viewBox=\"0 -960 960 960\">\n",
              "    <path d=\"M120-120v-720h720v720H120Zm60-500h600v-160H180v160Zm220 220h160v-160H400v160Zm0 220h160v-160H400v160ZM180-400h160v-160H180v160Zm440 0h160v-160H620v160ZM180-180h160v-160H180v160Zm440 0h160v-160H620v160Z\"/>\n",
              "  </svg>\n",
              "    </button>\n",
              "\n",
              "  <style>\n",
              "    .colab-df-container {\n",
              "      display:flex;\n",
              "      gap: 12px;\n",
              "    }\n",
              "\n",
              "    .colab-df-convert {\n",
              "      background-color: #E8F0FE;\n",
              "      border: none;\n",
              "      border-radius: 50%;\n",
              "      cursor: pointer;\n",
              "      display: none;\n",
              "      fill: #1967D2;\n",
              "      height: 32px;\n",
              "      padding: 0 0 0 0;\n",
              "      width: 32px;\n",
              "    }\n",
              "\n",
              "    .colab-df-convert:hover {\n",
              "      background-color: #E2EBFA;\n",
              "      box-shadow: 0px 1px 2px rgba(60, 64, 67, 0.3), 0px 1px 3px 1px rgba(60, 64, 67, 0.15);\n",
              "      fill: #174EA6;\n",
              "    }\n",
              "\n",
              "    .colab-df-buttons div {\n",
              "      margin-bottom: 4px;\n",
              "    }\n",
              "\n",
              "    [theme=dark] .colab-df-convert {\n",
              "      background-color: #3B4455;\n",
              "      fill: #D2E3FC;\n",
              "    }\n",
              "\n",
              "    [theme=dark] .colab-df-convert:hover {\n",
              "      background-color: #434B5C;\n",
              "      box-shadow: 0px 1px 3px 1px rgba(0, 0, 0, 0.15);\n",
              "      filter: drop-shadow(0px 1px 2px rgba(0, 0, 0, 0.3));\n",
              "      fill: #FFFFFF;\n",
              "    }\n",
              "  </style>\n",
              "\n",
              "    <script>\n",
              "      const buttonEl =\n",
              "        document.querySelector('#df-4957b25e-ac52-484e-a329-1cacdbf4dcb3 button.colab-df-convert');\n",
              "      buttonEl.style.display =\n",
              "        google.colab.kernel.accessAllowed ? 'block' : 'none';\n",
              "\n",
              "      async function convertToInteractive(key) {\n",
              "        const element = document.querySelector('#df-4957b25e-ac52-484e-a329-1cacdbf4dcb3');\n",
              "        const dataTable =\n",
              "          await google.colab.kernel.invokeFunction('convertToInteractive',\n",
              "                                                    [key], {});\n",
              "        if (!dataTable) return;\n",
              "\n",
              "        const docLinkHtml = 'Like what you see? Visit the ' +\n",
              "          '<a target=\"_blank\" href=https://colab.research.google.com/notebooks/data_table.ipynb>data table notebook</a>'\n",
              "          + ' to learn more about interactive tables.';\n",
              "        element.innerHTML = '';\n",
              "        dataTable['output_type'] = 'display_data';\n",
              "        await google.colab.output.renderOutput(dataTable, element);\n",
              "        const docLink = document.createElement('div');\n",
              "        docLink.innerHTML = docLinkHtml;\n",
              "        element.appendChild(docLink);\n",
              "      }\n",
              "    </script>\n",
              "  </div>\n",
              "\n",
              "\n",
              "<div id=\"df-c7bdc396-0664-4803-ae09-a7c4df33ebca\">\n",
              "  <button class=\"colab-df-quickchart\" onclick=\"quickchart('df-c7bdc396-0664-4803-ae09-a7c4df33ebca')\"\n",
              "            title=\"Suggest charts\"\n",
              "            style=\"display:none;\">\n",
              "\n",
              "<svg xmlns=\"http://www.w3.org/2000/svg\" height=\"24px\"viewBox=\"0 0 24 24\"\n",
              "     width=\"24px\">\n",
              "    <g>\n",
              "        <path d=\"M19 3H5c-1.1 0-2 .9-2 2v14c0 1.1.9 2 2 2h14c1.1 0 2-.9 2-2V5c0-1.1-.9-2-2-2zM9 17H7v-7h2v7zm4 0h-2V7h2v10zm4 0h-2v-4h2v4z\"/>\n",
              "    </g>\n",
              "</svg>\n",
              "  </button>\n",
              "\n",
              "<style>\n",
              "  .colab-df-quickchart {\n",
              "      --bg-color: #E8F0FE;\n",
              "      --fill-color: #1967D2;\n",
              "      --hover-bg-color: #E2EBFA;\n",
              "      --hover-fill-color: #174EA6;\n",
              "      --disabled-fill-color: #AAA;\n",
              "      --disabled-bg-color: #DDD;\n",
              "  }\n",
              "\n",
              "  [theme=dark] .colab-df-quickchart {\n",
              "      --bg-color: #3B4455;\n",
              "      --fill-color: #D2E3FC;\n",
              "      --hover-bg-color: #434B5C;\n",
              "      --hover-fill-color: #FFFFFF;\n",
              "      --disabled-bg-color: #3B4455;\n",
              "      --disabled-fill-color: #666;\n",
              "  }\n",
              "\n",
              "  .colab-df-quickchart {\n",
              "    background-color: var(--bg-color);\n",
              "    border: none;\n",
              "    border-radius: 50%;\n",
              "    cursor: pointer;\n",
              "    display: none;\n",
              "    fill: var(--fill-color);\n",
              "    height: 32px;\n",
              "    padding: 0;\n",
              "    width: 32px;\n",
              "  }\n",
              "\n",
              "  .colab-df-quickchart:hover {\n",
              "    background-color: var(--hover-bg-color);\n",
              "    box-shadow: 0 1px 2px rgba(60, 64, 67, 0.3), 0 1px 3px 1px rgba(60, 64, 67, 0.15);\n",
              "    fill: var(--button-hover-fill-color);\n",
              "  }\n",
              "\n",
              "  .colab-df-quickchart-complete:disabled,\n",
              "  .colab-df-quickchart-complete:disabled:hover {\n",
              "    background-color: var(--disabled-bg-color);\n",
              "    fill: var(--disabled-fill-color);\n",
              "    box-shadow: none;\n",
              "  }\n",
              "\n",
              "  .colab-df-spinner {\n",
              "    border: 2px solid var(--fill-color);\n",
              "    border-color: transparent;\n",
              "    border-bottom-color: var(--fill-color);\n",
              "    animation:\n",
              "      spin 1s steps(1) infinite;\n",
              "  }\n",
              "\n",
              "  @keyframes spin {\n",
              "    0% {\n",
              "      border-color: transparent;\n",
              "      border-bottom-color: var(--fill-color);\n",
              "      border-left-color: var(--fill-color);\n",
              "    }\n",
              "    20% {\n",
              "      border-color: transparent;\n",
              "      border-left-color: var(--fill-color);\n",
              "      border-top-color: var(--fill-color);\n",
              "    }\n",
              "    30% {\n",
              "      border-color: transparent;\n",
              "      border-left-color: var(--fill-color);\n",
              "      border-top-color: var(--fill-color);\n",
              "      border-right-color: var(--fill-color);\n",
              "    }\n",
              "    40% {\n",
              "      border-color: transparent;\n",
              "      border-right-color: var(--fill-color);\n",
              "      border-top-color: var(--fill-color);\n",
              "    }\n",
              "    60% {\n",
              "      border-color: transparent;\n",
              "      border-right-color: var(--fill-color);\n",
              "    }\n",
              "    80% {\n",
              "      border-color: transparent;\n",
              "      border-right-color: var(--fill-color);\n",
              "      border-bottom-color: var(--fill-color);\n",
              "    }\n",
              "    90% {\n",
              "      border-color: transparent;\n",
              "      border-bottom-color: var(--fill-color);\n",
              "    }\n",
              "  }\n",
              "</style>\n",
              "\n",
              "  <script>\n",
              "    async function quickchart(key) {\n",
              "      const quickchartButtonEl =\n",
              "        document.querySelector('#' + key + ' button');\n",
              "      quickchartButtonEl.disabled = true;  // To prevent multiple clicks.\n",
              "      quickchartButtonEl.classList.add('colab-df-spinner');\n",
              "      try {\n",
              "        const charts = await google.colab.kernel.invokeFunction(\n",
              "            'suggestCharts', [key], {});\n",
              "      } catch (error) {\n",
              "        console.error('Error during call to suggestCharts:', error);\n",
              "      }\n",
              "      quickchartButtonEl.classList.remove('colab-df-spinner');\n",
              "      quickchartButtonEl.classList.add('colab-df-quickchart-complete');\n",
              "    }\n",
              "    (() => {\n",
              "      let quickchartButtonEl =\n",
              "        document.querySelector('#df-c7bdc396-0664-4803-ae09-a7c4df33ebca button');\n",
              "      quickchartButtonEl.style.display =\n",
              "        google.colab.kernel.accessAllowed ? 'block' : 'none';\n",
              "    })();\n",
              "  </script>\n",
              "</div>\n",
              "\n",
              "  <div id=\"id_07105745-d01a-490f-a861-cc808727db4f\">\n",
              "    <style>\n",
              "      .colab-df-generate {\n",
              "        background-color: #E8F0FE;\n",
              "        border: none;\n",
              "        border-radius: 50%;\n",
              "        cursor: pointer;\n",
              "        display: none;\n",
              "        fill: #1967D2;\n",
              "        height: 32px;\n",
              "        padding: 0 0 0 0;\n",
              "        width: 32px;\n",
              "      }\n",
              "\n",
              "      .colab-df-generate:hover {\n",
              "        background-color: #E2EBFA;\n",
              "        box-shadow: 0px 1px 2px rgba(60, 64, 67, 0.3), 0px 1px 3px 1px rgba(60, 64, 67, 0.15);\n",
              "        fill: #174EA6;\n",
              "      }\n",
              "\n",
              "      [theme=dark] .colab-df-generate {\n",
              "        background-color: #3B4455;\n",
              "        fill: #D2E3FC;\n",
              "      }\n",
              "\n",
              "      [theme=dark] .colab-df-generate:hover {\n",
              "        background-color: #434B5C;\n",
              "        box-shadow: 0px 1px 3px 1px rgba(0, 0, 0, 0.15);\n",
              "        filter: drop-shadow(0px 1px 2px rgba(0, 0, 0, 0.3));\n",
              "        fill: #FFFFFF;\n",
              "      }\n",
              "    </style>\n",
              "    <button class=\"colab-df-generate\" onclick=\"generateWithVariable('grouped_df')\"\n",
              "            title=\"Generate code using this dataframe.\"\n",
              "            style=\"display:none;\">\n",
              "\n",
              "  <svg xmlns=\"http://www.w3.org/2000/svg\" height=\"24px\"viewBox=\"0 0 24 24\"\n",
              "       width=\"24px\">\n",
              "    <path d=\"M7,19H8.4L18.45,9,17,7.55,7,17.6ZM5,21V16.75L18.45,3.32a2,2,0,0,1,2.83,0l1.4,1.43a1.91,1.91,0,0,1,.58,1.4,1.91,1.91,0,0,1-.58,1.4L9.25,21ZM18.45,9,17,7.55Zm-12,3A5.31,5.31,0,0,0,4.9,8.1,5.31,5.31,0,0,0,1,6.5,5.31,5.31,0,0,0,4.9,4.9,5.31,5.31,0,0,0,6.5,1,5.31,5.31,0,0,0,8.1,4.9,5.31,5.31,0,0,0,12,6.5,5.46,5.46,0,0,0,6.5,12Z\"/>\n",
              "  </svg>\n",
              "    </button>\n",
              "    <script>\n",
              "      (() => {\n",
              "      const buttonEl =\n",
              "        document.querySelector('#id_07105745-d01a-490f-a861-cc808727db4f button.colab-df-generate');\n",
              "      buttonEl.style.display =\n",
              "        google.colab.kernel.accessAllowed ? 'block' : 'none';\n",
              "\n",
              "      buttonEl.onclick = () => {\n",
              "        google.colab.notebook.generateWithVariable('grouped_df');\n",
              "      }\n",
              "      })();\n",
              "    </script>\n",
              "  </div>\n",
              "\n",
              "    </div>\n",
              "  </div>\n"
            ],
            "application/vnd.google.colaboratory.intrinsic+json": {
              "type": "dataframe",
              "variable_name": "grouped_df",
              "summary": "{\n  \"name\": \"grouped_df\",\n  \"rows\": 5,\n  \"fields\": [\n    {\n      \"column\": \"A\",\n      \"properties\": {\n        \"dtype\": \"number\",\n        \"std\": 19,\n        \"min\": 1,\n        \"max\": 50,\n        \"num_unique_values\": 5,\n        \"samples\": [\n          17,\n          50,\n          28\n        ],\n        \"semantic_type\": \"\",\n        \"description\": \"\"\n      }\n    },\n    {\n      \"column\": \"B\",\n      \"properties\": {\n        \"dtype\": \"number\",\n        \"std\": 21.935986415021322,\n        \"min\": 2.0,\n        \"max\": 50.0,\n        \"num_unique_values\": 5,\n        \"samples\": [\n          49.0,\n          50.0,\n          2.0\n        ],\n        \"semantic_type\": \"\",\n        \"description\": \"\"\n      }\n    },\n    {\n      \"column\": \"C\",\n      \"properties\": {\n        \"dtype\": \"number\",\n        \"std\": 16,\n        \"min\": 4,\n        \"max\": 42,\n        \"num_unique_values\": 5,\n        \"samples\": [\n          37,\n          15,\n          38\n        ],\n        \"semantic_type\": \"\",\n        \"description\": \"\"\n      }\n    },\n    {\n      \"column\": \"D\",\n      \"properties\": {\n        \"dtype\": \"number\",\n        \"std\": 2.8613807855648994,\n        \"min\": 42.0,\n        \"max\": 49.0,\n        \"num_unique_values\": 5,\n        \"samples\": [\n          49.0,\n          45.25,\n          43.0\n        ],\n        \"semantic_type\": \"\",\n        \"description\": \"\"\n      }\n    },\n    {\n      \"column\": \"Sum\",\n      \"properties\": {\n        \"dtype\": \"number\",\n        \"std\": 35,\n        \"min\": 63,\n        \"max\": 152,\n        \"num_unique_values\": 5,\n        \"samples\": [\n          152,\n          133,\n          111\n        ],\n        \"semantic_type\": \"\",\n        \"description\": \"\"\n      }\n    }\n  ]\n}"
            }
          },
          "metadata": {},
          "execution_count": 19
        }
      ]
    },
    {
      "cell_type": "code",
      "source": [
        "#Merging DataFrames\n",
        "df_b = pd.DataFrame(df_a)\n",
        "merged_df = pd.merge(df_a, df_b, on='A', how='inner')\n",
        "merged_df"
      ],
      "metadata": {
        "colab": {
          "base_uri": "https://localhost:8080/",
          "height": 206
        },
        "id": "vM54gMNaAZCG",
        "outputId": "07d66924-e88b-4c71-b493-de8edd0fb40b"
      },
      "execution_count": 20,
      "outputs": [
        {
          "output_type": "execute_result",
          "data": {
            "text/plain": [
              "    A    B_x  C_x    D_x  Sum_x    B_y  C_y    D_y  Sum_y\n",
              "0  17  49.00   37  49.00    152  49.00   37  49.00    152\n",
              "1  42  10.00   42  47.00    141  10.00   42  47.00    141\n",
              "2   1  27.75    4  42.00     63  27.75    4  42.00     63\n",
              "3  28   2.00   38  43.00    111   2.00   38  43.00    111\n",
              "4  50  50.00   15  45.25    133  50.00   15  45.25    133"
            ],
            "text/html": [
              "\n",
              "  <div id=\"df-473e50f3-866a-43d0-807c-78a976fdeac5\" class=\"colab-df-container\">\n",
              "    <div>\n",
              "<style scoped>\n",
              "    .dataframe tbody tr th:only-of-type {\n",
              "        vertical-align: middle;\n",
              "    }\n",
              "\n",
              "    .dataframe tbody tr th {\n",
              "        vertical-align: top;\n",
              "    }\n",
              "\n",
              "    .dataframe thead th {\n",
              "        text-align: right;\n",
              "    }\n",
              "</style>\n",
              "<table border=\"1\" class=\"dataframe\">\n",
              "  <thead>\n",
              "    <tr style=\"text-align: right;\">\n",
              "      <th></th>\n",
              "      <th>A</th>\n",
              "      <th>B_x</th>\n",
              "      <th>C_x</th>\n",
              "      <th>D_x</th>\n",
              "      <th>Sum_x</th>\n",
              "      <th>B_y</th>\n",
              "      <th>C_y</th>\n",
              "      <th>D_y</th>\n",
              "      <th>Sum_y</th>\n",
              "    </tr>\n",
              "  </thead>\n",
              "  <tbody>\n",
              "    <tr>\n",
              "      <th>0</th>\n",
              "      <td>17</td>\n",
              "      <td>49.00</td>\n",
              "      <td>37</td>\n",
              "      <td>49.00</td>\n",
              "      <td>152</td>\n",
              "      <td>49.00</td>\n",
              "      <td>37</td>\n",
              "      <td>49.00</td>\n",
              "      <td>152</td>\n",
              "    </tr>\n",
              "    <tr>\n",
              "      <th>1</th>\n",
              "      <td>42</td>\n",
              "      <td>10.00</td>\n",
              "      <td>42</td>\n",
              "      <td>47.00</td>\n",
              "      <td>141</td>\n",
              "      <td>10.00</td>\n",
              "      <td>42</td>\n",
              "      <td>47.00</td>\n",
              "      <td>141</td>\n",
              "    </tr>\n",
              "    <tr>\n",
              "      <th>2</th>\n",
              "      <td>1</td>\n",
              "      <td>27.75</td>\n",
              "      <td>4</td>\n",
              "      <td>42.00</td>\n",
              "      <td>63</td>\n",
              "      <td>27.75</td>\n",
              "      <td>4</td>\n",
              "      <td>42.00</td>\n",
              "      <td>63</td>\n",
              "    </tr>\n",
              "    <tr>\n",
              "      <th>3</th>\n",
              "      <td>28</td>\n",
              "      <td>2.00</td>\n",
              "      <td>38</td>\n",
              "      <td>43.00</td>\n",
              "      <td>111</td>\n",
              "      <td>2.00</td>\n",
              "      <td>38</td>\n",
              "      <td>43.00</td>\n",
              "      <td>111</td>\n",
              "    </tr>\n",
              "    <tr>\n",
              "      <th>4</th>\n",
              "      <td>50</td>\n",
              "      <td>50.00</td>\n",
              "      <td>15</td>\n",
              "      <td>45.25</td>\n",
              "      <td>133</td>\n",
              "      <td>50.00</td>\n",
              "      <td>15</td>\n",
              "      <td>45.25</td>\n",
              "      <td>133</td>\n",
              "    </tr>\n",
              "  </tbody>\n",
              "</table>\n",
              "</div>\n",
              "    <div class=\"colab-df-buttons\">\n",
              "\n",
              "  <div class=\"colab-df-container\">\n",
              "    <button class=\"colab-df-convert\" onclick=\"convertToInteractive('df-473e50f3-866a-43d0-807c-78a976fdeac5')\"\n",
              "            title=\"Convert this dataframe to an interactive table.\"\n",
              "            style=\"display:none;\">\n",
              "\n",
              "  <svg xmlns=\"http://www.w3.org/2000/svg\" height=\"24px\" viewBox=\"0 -960 960 960\">\n",
              "    <path d=\"M120-120v-720h720v720H120Zm60-500h600v-160H180v160Zm220 220h160v-160H400v160Zm0 220h160v-160H400v160ZM180-400h160v-160H180v160Zm440 0h160v-160H620v160ZM180-180h160v-160H180v160Zm440 0h160v-160H620v160Z\"/>\n",
              "  </svg>\n",
              "    </button>\n",
              "\n",
              "  <style>\n",
              "    .colab-df-container {\n",
              "      display:flex;\n",
              "      gap: 12px;\n",
              "    }\n",
              "\n",
              "    .colab-df-convert {\n",
              "      background-color: #E8F0FE;\n",
              "      border: none;\n",
              "      border-radius: 50%;\n",
              "      cursor: pointer;\n",
              "      display: none;\n",
              "      fill: #1967D2;\n",
              "      height: 32px;\n",
              "      padding: 0 0 0 0;\n",
              "      width: 32px;\n",
              "    }\n",
              "\n",
              "    .colab-df-convert:hover {\n",
              "      background-color: #E2EBFA;\n",
              "      box-shadow: 0px 1px 2px rgba(60, 64, 67, 0.3), 0px 1px 3px 1px rgba(60, 64, 67, 0.15);\n",
              "      fill: #174EA6;\n",
              "    }\n",
              "\n",
              "    .colab-df-buttons div {\n",
              "      margin-bottom: 4px;\n",
              "    }\n",
              "\n",
              "    [theme=dark] .colab-df-convert {\n",
              "      background-color: #3B4455;\n",
              "      fill: #D2E3FC;\n",
              "    }\n",
              "\n",
              "    [theme=dark] .colab-df-convert:hover {\n",
              "      background-color: #434B5C;\n",
              "      box-shadow: 0px 1px 3px 1px rgba(0, 0, 0, 0.15);\n",
              "      filter: drop-shadow(0px 1px 2px rgba(0, 0, 0, 0.3));\n",
              "      fill: #FFFFFF;\n",
              "    }\n",
              "  </style>\n",
              "\n",
              "    <script>\n",
              "      const buttonEl =\n",
              "        document.querySelector('#df-473e50f3-866a-43d0-807c-78a976fdeac5 button.colab-df-convert');\n",
              "      buttonEl.style.display =\n",
              "        google.colab.kernel.accessAllowed ? 'block' : 'none';\n",
              "\n",
              "      async function convertToInteractive(key) {\n",
              "        const element = document.querySelector('#df-473e50f3-866a-43d0-807c-78a976fdeac5');\n",
              "        const dataTable =\n",
              "          await google.colab.kernel.invokeFunction('convertToInteractive',\n",
              "                                                    [key], {});\n",
              "        if (!dataTable) return;\n",
              "\n",
              "        const docLinkHtml = 'Like what you see? Visit the ' +\n",
              "          '<a target=\"_blank\" href=https://colab.research.google.com/notebooks/data_table.ipynb>data table notebook</a>'\n",
              "          + ' to learn more about interactive tables.';\n",
              "        element.innerHTML = '';\n",
              "        dataTable['output_type'] = 'display_data';\n",
              "        await google.colab.output.renderOutput(dataTable, element);\n",
              "        const docLink = document.createElement('div');\n",
              "        docLink.innerHTML = docLinkHtml;\n",
              "        element.appendChild(docLink);\n",
              "      }\n",
              "    </script>\n",
              "  </div>\n",
              "\n",
              "\n",
              "<div id=\"df-71488059-f3aa-459c-b8fb-22b1fe81e2c3\">\n",
              "  <button class=\"colab-df-quickchart\" onclick=\"quickchart('df-71488059-f3aa-459c-b8fb-22b1fe81e2c3')\"\n",
              "            title=\"Suggest charts\"\n",
              "            style=\"display:none;\">\n",
              "\n",
              "<svg xmlns=\"http://www.w3.org/2000/svg\" height=\"24px\"viewBox=\"0 0 24 24\"\n",
              "     width=\"24px\">\n",
              "    <g>\n",
              "        <path d=\"M19 3H5c-1.1 0-2 .9-2 2v14c0 1.1.9 2 2 2h14c1.1 0 2-.9 2-2V5c0-1.1-.9-2-2-2zM9 17H7v-7h2v7zm4 0h-2V7h2v10zm4 0h-2v-4h2v4z\"/>\n",
              "    </g>\n",
              "</svg>\n",
              "  </button>\n",
              "\n",
              "<style>\n",
              "  .colab-df-quickchart {\n",
              "      --bg-color: #E8F0FE;\n",
              "      --fill-color: #1967D2;\n",
              "      --hover-bg-color: #E2EBFA;\n",
              "      --hover-fill-color: #174EA6;\n",
              "      --disabled-fill-color: #AAA;\n",
              "      --disabled-bg-color: #DDD;\n",
              "  }\n",
              "\n",
              "  [theme=dark] .colab-df-quickchart {\n",
              "      --bg-color: #3B4455;\n",
              "      --fill-color: #D2E3FC;\n",
              "      --hover-bg-color: #434B5C;\n",
              "      --hover-fill-color: #FFFFFF;\n",
              "      --disabled-bg-color: #3B4455;\n",
              "      --disabled-fill-color: #666;\n",
              "  }\n",
              "\n",
              "  .colab-df-quickchart {\n",
              "    background-color: var(--bg-color);\n",
              "    border: none;\n",
              "    border-radius: 50%;\n",
              "    cursor: pointer;\n",
              "    display: none;\n",
              "    fill: var(--fill-color);\n",
              "    height: 32px;\n",
              "    padding: 0;\n",
              "    width: 32px;\n",
              "  }\n",
              "\n",
              "  .colab-df-quickchart:hover {\n",
              "    background-color: var(--hover-bg-color);\n",
              "    box-shadow: 0 1px 2px rgba(60, 64, 67, 0.3), 0 1px 3px 1px rgba(60, 64, 67, 0.15);\n",
              "    fill: var(--button-hover-fill-color);\n",
              "  }\n",
              "\n",
              "  .colab-df-quickchart-complete:disabled,\n",
              "  .colab-df-quickchart-complete:disabled:hover {\n",
              "    background-color: var(--disabled-bg-color);\n",
              "    fill: var(--disabled-fill-color);\n",
              "    box-shadow: none;\n",
              "  }\n",
              "\n",
              "  .colab-df-spinner {\n",
              "    border: 2px solid var(--fill-color);\n",
              "    border-color: transparent;\n",
              "    border-bottom-color: var(--fill-color);\n",
              "    animation:\n",
              "      spin 1s steps(1) infinite;\n",
              "  }\n",
              "\n",
              "  @keyframes spin {\n",
              "    0% {\n",
              "      border-color: transparent;\n",
              "      border-bottom-color: var(--fill-color);\n",
              "      border-left-color: var(--fill-color);\n",
              "    }\n",
              "    20% {\n",
              "      border-color: transparent;\n",
              "      border-left-color: var(--fill-color);\n",
              "      border-top-color: var(--fill-color);\n",
              "    }\n",
              "    30% {\n",
              "      border-color: transparent;\n",
              "      border-left-color: var(--fill-color);\n",
              "      border-top-color: var(--fill-color);\n",
              "      border-right-color: var(--fill-color);\n",
              "    }\n",
              "    40% {\n",
              "      border-color: transparent;\n",
              "      border-right-color: var(--fill-color);\n",
              "      border-top-color: var(--fill-color);\n",
              "    }\n",
              "    60% {\n",
              "      border-color: transparent;\n",
              "      border-right-color: var(--fill-color);\n",
              "    }\n",
              "    80% {\n",
              "      border-color: transparent;\n",
              "      border-right-color: var(--fill-color);\n",
              "      border-bottom-color: var(--fill-color);\n",
              "    }\n",
              "    90% {\n",
              "      border-color: transparent;\n",
              "      border-bottom-color: var(--fill-color);\n",
              "    }\n",
              "  }\n",
              "</style>\n",
              "\n",
              "  <script>\n",
              "    async function quickchart(key) {\n",
              "      const quickchartButtonEl =\n",
              "        document.querySelector('#' + key + ' button');\n",
              "      quickchartButtonEl.disabled = true;  // To prevent multiple clicks.\n",
              "      quickchartButtonEl.classList.add('colab-df-spinner');\n",
              "      try {\n",
              "        const charts = await google.colab.kernel.invokeFunction(\n",
              "            'suggestCharts', [key], {});\n",
              "      } catch (error) {\n",
              "        console.error('Error during call to suggestCharts:', error);\n",
              "      }\n",
              "      quickchartButtonEl.classList.remove('colab-df-spinner');\n",
              "      quickchartButtonEl.classList.add('colab-df-quickchart-complete');\n",
              "    }\n",
              "    (() => {\n",
              "      let quickchartButtonEl =\n",
              "        document.querySelector('#df-71488059-f3aa-459c-b8fb-22b1fe81e2c3 button');\n",
              "      quickchartButtonEl.style.display =\n",
              "        google.colab.kernel.accessAllowed ? 'block' : 'none';\n",
              "    })();\n",
              "  </script>\n",
              "</div>\n",
              "\n",
              "  <div id=\"id_0ea174dc-26c0-41da-a4fc-3d826844b441\">\n",
              "    <style>\n",
              "      .colab-df-generate {\n",
              "        background-color: #E8F0FE;\n",
              "        border: none;\n",
              "        border-radius: 50%;\n",
              "        cursor: pointer;\n",
              "        display: none;\n",
              "        fill: #1967D2;\n",
              "        height: 32px;\n",
              "        padding: 0 0 0 0;\n",
              "        width: 32px;\n",
              "      }\n",
              "\n",
              "      .colab-df-generate:hover {\n",
              "        background-color: #E2EBFA;\n",
              "        box-shadow: 0px 1px 2px rgba(60, 64, 67, 0.3), 0px 1px 3px 1px rgba(60, 64, 67, 0.15);\n",
              "        fill: #174EA6;\n",
              "      }\n",
              "\n",
              "      [theme=dark] .colab-df-generate {\n",
              "        background-color: #3B4455;\n",
              "        fill: #D2E3FC;\n",
              "      }\n",
              "\n",
              "      [theme=dark] .colab-df-generate:hover {\n",
              "        background-color: #434B5C;\n",
              "        box-shadow: 0px 1px 3px 1px rgba(0, 0, 0, 0.15);\n",
              "        filter: drop-shadow(0px 1px 2px rgba(0, 0, 0, 0.3));\n",
              "        fill: #FFFFFF;\n",
              "      }\n",
              "    </style>\n",
              "    <button class=\"colab-df-generate\" onclick=\"generateWithVariable('merged_df')\"\n",
              "            title=\"Generate code using this dataframe.\"\n",
              "            style=\"display:none;\">\n",
              "\n",
              "  <svg xmlns=\"http://www.w3.org/2000/svg\" height=\"24px\"viewBox=\"0 0 24 24\"\n",
              "       width=\"24px\">\n",
              "    <path d=\"M7,19H8.4L18.45,9,17,7.55,7,17.6ZM5,21V16.75L18.45,3.32a2,2,0,0,1,2.83,0l1.4,1.43a1.91,1.91,0,0,1,.58,1.4,1.91,1.91,0,0,1-.58,1.4L9.25,21ZM18.45,9,17,7.55Zm-12,3A5.31,5.31,0,0,0,4.9,8.1,5.31,5.31,0,0,0,1,6.5,5.31,5.31,0,0,0,4.9,4.9,5.31,5.31,0,0,0,6.5,1,5.31,5.31,0,0,0,8.1,4.9,5.31,5.31,0,0,0,12,6.5,5.46,5.46,0,0,0,6.5,12Z\"/>\n",
              "  </svg>\n",
              "    </button>\n",
              "    <script>\n",
              "      (() => {\n",
              "      const buttonEl =\n",
              "        document.querySelector('#id_0ea174dc-26c0-41da-a4fc-3d826844b441 button.colab-df-generate');\n",
              "      buttonEl.style.display =\n",
              "        google.colab.kernel.accessAllowed ? 'block' : 'none';\n",
              "\n",
              "      buttonEl.onclick = () => {\n",
              "        google.colab.notebook.generateWithVariable('merged_df');\n",
              "      }\n",
              "      })();\n",
              "    </script>\n",
              "  </div>\n",
              "\n",
              "    </div>\n",
              "  </div>\n"
            ],
            "application/vnd.google.colaboratory.intrinsic+json": {
              "type": "dataframe",
              "variable_name": "merged_df",
              "summary": "{\n  \"name\": \"merged_df\",\n  \"rows\": 5,\n  \"fields\": [\n    {\n      \"column\": \"A\",\n      \"properties\": {\n        \"dtype\": \"number\",\n        \"std\": 19,\n        \"min\": 1,\n        \"max\": 50,\n        \"num_unique_values\": 5,\n        \"samples\": [\n          42,\n          50,\n          1\n        ],\n        \"semantic_type\": \"\",\n        \"description\": \"\"\n      }\n    },\n    {\n      \"column\": \"B_x\",\n      \"properties\": {\n        \"dtype\": \"number\",\n        \"std\": 21.935986415021322,\n        \"min\": 2.0,\n        \"max\": 50.0,\n        \"num_unique_values\": 5,\n        \"samples\": [\n          10.0,\n          50.0,\n          27.75\n        ],\n        \"semantic_type\": \"\",\n        \"description\": \"\"\n      }\n    },\n    {\n      \"column\": \"C_x\",\n      \"properties\": {\n        \"dtype\": \"number\",\n        \"std\": 16,\n        \"min\": 4,\n        \"max\": 42,\n        \"num_unique_values\": 5,\n        \"samples\": [\n          42,\n          15,\n          4\n        ],\n        \"semantic_type\": \"\",\n        \"description\": \"\"\n      }\n    },\n    {\n      \"column\": \"D_x\",\n      \"properties\": {\n        \"dtype\": \"number\",\n        \"std\": 2.8613807855648994,\n        \"min\": 42.0,\n        \"max\": 49.0,\n        \"num_unique_values\": 5,\n        \"samples\": [\n          47.0,\n          45.25,\n          42.0\n        ],\n        \"semantic_type\": \"\",\n        \"description\": \"\"\n      }\n    },\n    {\n      \"column\": \"Sum_x\",\n      \"properties\": {\n        \"dtype\": \"number\",\n        \"std\": 35,\n        \"min\": 63,\n        \"max\": 152,\n        \"num_unique_values\": 5,\n        \"samples\": [\n          141,\n          133,\n          63\n        ],\n        \"semantic_type\": \"\",\n        \"description\": \"\"\n      }\n    },\n    {\n      \"column\": \"B_y\",\n      \"properties\": {\n        \"dtype\": \"number\",\n        \"std\": 21.935986415021322,\n        \"min\": 2.0,\n        \"max\": 50.0,\n        \"num_unique_values\": 5,\n        \"samples\": [\n          10.0,\n          50.0,\n          27.75\n        ],\n        \"semantic_type\": \"\",\n        \"description\": \"\"\n      }\n    },\n    {\n      \"column\": \"C_y\",\n      \"properties\": {\n        \"dtype\": \"number\",\n        \"std\": 16,\n        \"min\": 4,\n        \"max\": 42,\n        \"num_unique_values\": 5,\n        \"samples\": [\n          42,\n          15,\n          4\n        ],\n        \"semantic_type\": \"\",\n        \"description\": \"\"\n      }\n    },\n    {\n      \"column\": \"D_y\",\n      \"properties\": {\n        \"dtype\": \"number\",\n        \"std\": 2.8613807855648994,\n        \"min\": 42.0,\n        \"max\": 49.0,\n        \"num_unique_values\": 5,\n        \"samples\": [\n          47.0,\n          45.25,\n          42.0\n        ],\n        \"semantic_type\": \"\",\n        \"description\": \"\"\n      }\n    },\n    {\n      \"column\": \"Sum_y\",\n      \"properties\": {\n        \"dtype\": \"number\",\n        \"std\": 35,\n        \"min\": 63,\n        \"max\": 152,\n        \"num_unique_values\": 5,\n        \"samples\": [\n          141,\n          133,\n          63\n        ],\n        \"semantic_type\": \"\",\n        \"description\": \"\"\n      }\n    }\n  ]\n}"
            }
          },
          "metadata": {},
          "execution_count": 20
        }
      ]
    },
    {
      "cell_type": "markdown",
      "source": [
        "## **MATPLOTLIB**"
      ],
      "metadata": {
        "id": "3Ku-gGcbA0TM"
      }
    },
    {
      "cell_type": "code",
      "source": [
        "import matplotlib.pyplot as plt\n",
        "\n",
        "print(array_a)\n",
        "print(added_arrays)\n",
        "x_values = array_a[:5]\n",
        "\n",
        "colors = ['red', 'blue', 'green', 'orange']\n",
        "\n",
        "\n",
        "plt.figure(figsize=(8, 6))\n",
        "for col in range(added_arrays.shape[1]):\n",
        "    plt.plot(x_values, added_arrays[:, col], marker='o',color = colors[col])\n",
        "\n",
        "plt.xlabel('array_a')\n",
        "plt.ylabel('added_arrays')\n",
        "plt.title('array_a vs added_arrays')\n",
        "\n",
        "plt.show()"
      ],
      "metadata": {
        "colab": {
          "base_uri": "https://localhost:8080/",
          "height": 668
        },
        "id": "JzKKi0UhAfWM",
        "outputId": "38abe22a-8cb7-4f3c-dea6-19587e9578e4"
      },
      "execution_count": 22,
      "outputs": [
        {
          "output_type": "stream",
          "name": "stdout",
          "text": [
            "[ 1  3  4  5  6  7  8  9 10 12  1  4  1 51  7 28 10 30 29 54]\n",
            "[[ 4  7  9 11]\n",
            " [13 14 16 19]\n",
            " [19 21 24  9]\n",
            " [ 6 55 10 40]\n",
            " [27 70 37 66]]\n"
          ]
        },
        {
          "output_type": "display_data",
          "data": {
            "text/plain": [
              "<Figure size 800x600 with 1 Axes>"
            ],
            "image/png": "[encoded data removed]"
          },
          "metadata": {}
        }
      ]
    },
    {
      "cell_type": "code",
      "source": [
        "#Histogram\n",
        "print(array_a)\n",
        "plt.hist(array_a, bins=10, color='y', edgecolor='black')\n",
        "plt.xlabel('Values')\n",
        "plt.ylabel('Frequency')\n",
        "plt.title('Histogram of array_a')\n",
        "plt.show()"
      ],
      "metadata": {
        "colab": {
          "base_uri": "https://localhost:8080/",
          "height": 489
        },
        "id": "2qA0F2fmGH8T",
        "outputId": "05bb0ea1-f418-4899-f653-eecdb92d53e0"
      },
      "execution_count": 23,
      "outputs": [
        {
          "output_type": "stream",
          "name": "stdout",
          "text": [
            "[ 1  3  4  5  6  7  8  9 10 12  1  4  1 51  7 28 10 30 29 54]\n"
          ]
        },
        {
          "output_type": "display_data",
          "data": {
            "text/plain": [
              "<Figure size 640x480 with 1 Axes>"
            ],
            "image/png": "[encoded data removed]"
          },
          "metadata": {}
        }
      ]
    },
    {
      "cell_type": "code",
      "source": [
        "#Scatter Plot\n",
        "print(array_a)\n",
        "print(array_b)\n",
        "plt.scatter(array_a, array_b, color='r', marker='o',alpha = 1)\n",
        "plt.xlabel('array_a')\n",
        "plt.ylabel('array_b')\n",
        "plt.title('Scatter Plot of array_a vs array_b')\n",
        "plt.show()"
      ],
      "metadata": {
        "id": "0c9oKqE6Hof8",
        "colab": {
          "base_uri": "https://localhost:8080/",
          "height": 576
        },
        "outputId": "deed625f-663b-4cc9-a71b-083c9185ab94"
      },
      "execution_count": 24,
      "outputs": [
        {
          "output_type": "stream",
          "name": "stdout",
          "text": [
            "[ 1  3  4  5  6  7  8  9 10 12  1  4  1 51  7 28 10 30 29 54]\n",
            "[[ 3  4  5  6]\n",
            " [ 7  7  8 10]\n",
            " [ 9  9 23  5]\n",
            " [ 5  4  3 12]\n",
            " [17 40  8 12]]\n"
          ]
        },
        {
          "output_type": "display_data",
          "data": {
            "text/plain": [
              "<Figure size 640x480 with 1 Axes>"
            ],
            "image/png": "[encoded data removed]"
          },
          "metadata": {}
        }
      ]
    },
    {
      "cell_type": "code",
      "source": [
        "#Plot with labels and Title\n",
        "\n",
        "\n",
        "print(array_a)\n",
        "print(array_b)\n",
        "x_values = array_a[:5]\n",
        "\n",
        "colors = ['red', 'blue', 'green', 'orange']\n",
        "labels = ['Column A', 'Column B', 'column C', 'Column D']\n",
        "\n",
        "plt.figure(figsize=(8, 6))\n",
        "for col in range(array_b.shape[1]):\n",
        "    plt.plot(x_values, array_b[:, col], marker='o',color = colors[col],label = labels[col])\n",
        "\n",
        "plt.xlabel('array_a')\n",
        "plt.ylabel('array_b')\n",
        "plt.title('Scatter Plot of array_a vs array_b')\n",
        "plt.grid(True)\n",
        "plt.legend(loc='upper left', title=\"Legend\")\n",
        "plt.show()"
      ],
      "metadata": {
        "colab": {
          "base_uri": "https://localhost:8080/",
          "height": 668
        },
        "id": "CoMAUmnhMlVf",
        "outputId": "8daa6ed2-2587-4f57-d6ac-7a140ec444e1"
      },
      "execution_count": 25,
      "outputs": [
        {
          "output_type": "stream",
          "name": "stdout",
          "text": [
            "[ 1  3  4  5  6  7  8  9 10 12  1  4  1 51  7 28 10 30 29 54]\n",
            "[[ 3  4  5  6]\n",
            " [ 7  7  8 10]\n",
            " [ 9  9 23  5]\n",
            " [ 5  4  3 12]\n",
            " [17 40  8 12]]\n"
          ]
        },
        {
          "output_type": "display_data",
          "data": {
            "text/plain": [
              "<Figure size 800x600 with 1 Axes>"
            ],
            "image/png": "[encoded data removed]"
          },
          "metadata": {}
        }
      ]
    }
  ]
}